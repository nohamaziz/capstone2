{
 "cells": [
  {
   "cell_type": "markdown",
   "metadata": {},
   "source": [
    "## INTRODUCTION\n",
    "#### Aim of this project is to predict a desired location for setting up a new business.The Business is a movie theater that is going to open in Riyadh.\n",
    "\n",
    "## Objectives:\n",
    "#### The information will be in the form of locations of existing entertainemt areas such as restaurants, shops . . etc that will provide a deterministic view of the places that is more popular for people to hang out there.\n",
    "\n",
    "#### The next step will be to find an optimal location for the movie theater to be set up so that it will be a successful venture.Will not have to face the extensive competition due to previously established businesses.\n",
    "\n",
    "#### The dataset utilized here is the Riyadh city dataset that will be extracted from Foursqaure database.\n",
    "\n"
   ]
  },
  {
   "cell_type": "code",
   "execution_count": null,
   "metadata": {},
   "outputs": [],
   "source": []
  }
 ],
 "metadata": {
  "kernelspec": {
   "display_name": "Python 3",
   "language": "python",
   "name": "python3"
  },
  "language_info": {
   "codemirror_mode": {
    "name": "ipython",
    "version": 3
   },
   "file_extension": ".py",
   "mimetype": "text/x-python",
   "name": "python",
   "nbconvert_exporter": "python",
   "pygments_lexer": "ipython3",
   "version": "3.6.5"
  }
 },
 "nbformat": 4,
 "nbformat_minor": 2
}
